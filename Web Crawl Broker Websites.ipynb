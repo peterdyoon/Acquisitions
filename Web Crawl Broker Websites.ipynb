{
 "cells": [
  {
   "cell_type": "code",
   "execution_count": 4,
   "metadata": {},
   "outputs": [],
   "source": [
    "import pandas as pd\n",
    "import shutil\n",
    "from datetime import datetime\n",
    "\n",
    "raw_data = pd.read_csv(\"raw_data.csv\")\n",
    "today = datetime.now()"
   ]
  },
  {
   "cell_type": "code",
   "execution_count": 6,
   "metadata": {},
   "outputs": [
    {
     "ename": "NoSuchWindowException",
     "evalue": "Message: no such window: window was already closed\n  (Session info: chrome=76.0.3809.87)\n",
     "output_type": "error",
     "traceback": [
      "\u001b[0;31m---------------------------------------------------------------------------\u001b[0m",
      "\u001b[0;31mNoSuchWindowException\u001b[0m                     Traceback (most recent call last)",
      "\u001b[0;32m<ipython-input-6-92300096a839>\u001b[0m in \u001b[0;36m<module>\u001b[0;34m()\u001b[0m\n\u001b[1;32m     19\u001b[0m     \u001b[0;32mfor\u001b[0m \u001b[0mx\u001b[0m \u001b[0;32min\u001b[0m \u001b[0mrange\u001b[0m\u001b[0;34m(\u001b[0m\u001b[0;36m2\u001b[0m\u001b[0;34m)\u001b[0m\u001b[0;34m:\u001b[0m\u001b[0;34m\u001b[0m\u001b[0m\n\u001b[1;32m     20\u001b[0m         \u001b[0mdriver\u001b[0m\u001b[0;34m.\u001b[0m\u001b[0mget\u001b[0m\u001b[0;34m(\u001b[0m\u001b[0mloopnet_link\u001b[0m\u001b[0;34m.\u001b[0m\u001b[0mformat\u001b[0m\u001b[0;34m(\u001b[0m\u001b[0mx\u001b[0m \u001b[0;34m+\u001b[0m \u001b[0;36m1\u001b[0m\u001b[0;34m)\u001b[0m\u001b[0;34m)\u001b[0m\u001b[0;34m\u001b[0m\u001b[0m\n\u001b[0;32m---> 21\u001b[0;31m         \u001b[0mitems\u001b[0m \u001b[0;34m=\u001b[0m \u001b[0mdriver\u001b[0m\u001b[0;34m.\u001b[0m\u001b[0mfind_elements_by_tag_name\u001b[0m\u001b[0;34m(\u001b[0m\u001b[0;34m\"article\"\u001b[0m\u001b[0;34m)\u001b[0m\u001b[0;34m\u001b[0m\u001b[0m\n\u001b[0m\u001b[1;32m     22\u001b[0m         \u001b[0;32mfor\u001b[0m \u001b[0mx\u001b[0m \u001b[0;32min\u001b[0m \u001b[0mitems\u001b[0m\u001b[0;34m:\u001b[0m\u001b[0;34m\u001b[0m\u001b[0m\n\u001b[1;32m     23\u001b[0m             \u001b[0mtemp_data\u001b[0m \u001b[0;34m=\u001b[0m \u001b[0;34m[\u001b[0m\u001b[0;34m]\u001b[0m\u001b[0;34m\u001b[0m\u001b[0m\n",
      "\u001b[0;32m/Users/peteryoon/venv/lib/python2.7/site-packages/selenium/webdriver/remote/webdriver.pyc\u001b[0m in \u001b[0;36mfind_elements_by_tag_name\u001b[0;34m(self, name)\u001b[0m\n\u001b[1;32m    544\u001b[0m             \u001b[0melements\u001b[0m \u001b[0;34m=\u001b[0m \u001b[0mdriver\u001b[0m\u001b[0;34m.\u001b[0m\u001b[0mfind_elements_by_tag_name\u001b[0m\u001b[0;34m(\u001b[0m\u001b[0;34m'h1'\u001b[0m\u001b[0;34m)\u001b[0m\u001b[0;34m\u001b[0m\u001b[0m\n\u001b[1;32m    545\u001b[0m         \"\"\"\n\u001b[0;32m--> 546\u001b[0;31m         \u001b[0;32mreturn\u001b[0m \u001b[0mself\u001b[0m\u001b[0;34m.\u001b[0m\u001b[0mfind_elements\u001b[0m\u001b[0;34m(\u001b[0m\u001b[0mby\u001b[0m\u001b[0;34m=\u001b[0m\u001b[0mBy\u001b[0m\u001b[0;34m.\u001b[0m\u001b[0mTAG_NAME\u001b[0m\u001b[0;34m,\u001b[0m \u001b[0mvalue\u001b[0m\u001b[0;34m=\u001b[0m\u001b[0mname\u001b[0m\u001b[0;34m)\u001b[0m\u001b[0;34m\u001b[0m\u001b[0m\n\u001b[0m\u001b[1;32m    547\u001b[0m \u001b[0;34m\u001b[0m\u001b[0m\n\u001b[1;32m    548\u001b[0m     \u001b[0;32mdef\u001b[0m \u001b[0mfind_element_by_class_name\u001b[0m\u001b[0;34m(\u001b[0m\u001b[0mself\u001b[0m\u001b[0;34m,\u001b[0m \u001b[0mname\u001b[0m\u001b[0;34m)\u001b[0m\u001b[0;34m:\u001b[0m\u001b[0;34m\u001b[0m\u001b[0m\n",
      "\u001b[0;32m/Users/peteryoon/venv/lib/python2.7/site-packages/selenium/webdriver/remote/webdriver.pyc\u001b[0m in \u001b[0;36mfind_elements\u001b[0;34m(self, by, value)\u001b[0m\n\u001b[1;32m   1005\u001b[0m         return self.execute(Command.FIND_ELEMENTS, {\n\u001b[1;32m   1006\u001b[0m             \u001b[0;34m'using'\u001b[0m\u001b[0;34m:\u001b[0m \u001b[0mby\u001b[0m\u001b[0;34m,\u001b[0m\u001b[0;34m\u001b[0m\u001b[0m\n\u001b[0;32m-> 1007\u001b[0;31m             'value': value})['value'] or []\n\u001b[0m\u001b[1;32m   1008\u001b[0m \u001b[0;34m\u001b[0m\u001b[0m\n\u001b[1;32m   1009\u001b[0m     \u001b[0;34m@\u001b[0m\u001b[0mproperty\u001b[0m\u001b[0;34m\u001b[0m\u001b[0m\n",
      "\u001b[0;32m/Users/peteryoon/venv/lib/python2.7/site-packages/selenium/webdriver/remote/webdriver.pyc\u001b[0m in \u001b[0;36mexecute\u001b[0;34m(self, driver_command, params)\u001b[0m\n\u001b[1;32m    319\u001b[0m         \u001b[0mresponse\u001b[0m \u001b[0;34m=\u001b[0m \u001b[0mself\u001b[0m\u001b[0;34m.\u001b[0m\u001b[0mcommand_executor\u001b[0m\u001b[0;34m.\u001b[0m\u001b[0mexecute\u001b[0m\u001b[0;34m(\u001b[0m\u001b[0mdriver_command\u001b[0m\u001b[0;34m,\u001b[0m \u001b[0mparams\u001b[0m\u001b[0;34m)\u001b[0m\u001b[0;34m\u001b[0m\u001b[0m\n\u001b[1;32m    320\u001b[0m         \u001b[0;32mif\u001b[0m \u001b[0mresponse\u001b[0m\u001b[0;34m:\u001b[0m\u001b[0;34m\u001b[0m\u001b[0m\n\u001b[0;32m--> 321\u001b[0;31m             \u001b[0mself\u001b[0m\u001b[0;34m.\u001b[0m\u001b[0merror_handler\u001b[0m\u001b[0;34m.\u001b[0m\u001b[0mcheck_response\u001b[0m\u001b[0;34m(\u001b[0m\u001b[0mresponse\u001b[0m\u001b[0;34m)\u001b[0m\u001b[0;34m\u001b[0m\u001b[0m\n\u001b[0m\u001b[1;32m    322\u001b[0m             response['value'] = self._unwrap_value(\n\u001b[1;32m    323\u001b[0m                 response.get('value', None))\n",
      "\u001b[0;32m/Users/peteryoon/venv/lib/python2.7/site-packages/selenium/webdriver/remote/errorhandler.pyc\u001b[0m in \u001b[0;36mcheck_response\u001b[0;34m(self, response)\u001b[0m\n\u001b[1;32m    240\u001b[0m                 \u001b[0malert_text\u001b[0m \u001b[0;34m=\u001b[0m \u001b[0mvalue\u001b[0m\u001b[0;34m[\u001b[0m\u001b[0;34m'alert'\u001b[0m\u001b[0;34m]\u001b[0m\u001b[0;34m.\u001b[0m\u001b[0mget\u001b[0m\u001b[0;34m(\u001b[0m\u001b[0;34m'text'\u001b[0m\u001b[0;34m)\u001b[0m\u001b[0;34m\u001b[0m\u001b[0m\n\u001b[1;32m    241\u001b[0m             \u001b[0;32mraise\u001b[0m \u001b[0mexception_class\u001b[0m\u001b[0;34m(\u001b[0m\u001b[0mmessage\u001b[0m\u001b[0;34m,\u001b[0m \u001b[0mscreen\u001b[0m\u001b[0;34m,\u001b[0m \u001b[0mstacktrace\u001b[0m\u001b[0;34m,\u001b[0m \u001b[0malert_text\u001b[0m\u001b[0;34m)\u001b[0m\u001b[0;34m\u001b[0m\u001b[0m\n\u001b[0;32m--> 242\u001b[0;31m         \u001b[0;32mraise\u001b[0m \u001b[0mexception_class\u001b[0m\u001b[0;34m(\u001b[0m\u001b[0mmessage\u001b[0m\u001b[0;34m,\u001b[0m \u001b[0mscreen\u001b[0m\u001b[0;34m,\u001b[0m \u001b[0mstacktrace\u001b[0m\u001b[0;34m)\u001b[0m\u001b[0;34m\u001b[0m\u001b[0m\n\u001b[0m\u001b[1;32m    243\u001b[0m \u001b[0;34m\u001b[0m\u001b[0m\n\u001b[1;32m    244\u001b[0m     \u001b[0;32mdef\u001b[0m \u001b[0m_value_or_default\u001b[0m\u001b[0;34m(\u001b[0m\u001b[0mself\u001b[0m\u001b[0;34m,\u001b[0m \u001b[0mobj\u001b[0m\u001b[0;34m,\u001b[0m \u001b[0mkey\u001b[0m\u001b[0;34m,\u001b[0m \u001b[0mdefault\u001b[0m\u001b[0;34m)\u001b[0m\u001b[0;34m:\u001b[0m\u001b[0;34m\u001b[0m\u001b[0m\n",
      "\u001b[0;31mNoSuchWindowException\u001b[0m: Message: no such window: window was already closed\n  (Session info: chrome=76.0.3809.87)\n"
     ]
    }
   ],
   "source": [
    "from selenium import webdriver\n",
    "from selenium.webdriver.common.by import By\n",
    "import re\n",
    "driver = webdriver.Chrome()\n",
    "# driver.get(\"https://www.loopnet.com/for-sale/il/?sk=7be1e58c3731f70583f9758ea8a63837\")\n",
    "property_data = []\n",
    "loopnet_links = [\n",
    "#     \"https://www.loopnet.com/for-sale/commercial-land/?sk=d70f8d8955720de2a26a20c741090ea4&bb=nr3hw-hgpMuvu6ouiQ\"\n",
    "#     \"https://www.loopnet.com/for-sale/commercial-land/{}/?sk=f547d78e0e5997281e090b5d69e7fd51&bb=zgk21_muoMlkz84joH\"\n",
    "#     \"https://www.loopnet.com/for-sale/commercial-land/{}/?sk=5a4754c86dce9b8f968a72b3c86cf7e6&bb=o_g_0nkooM3ris74kH\"\n",
    "#     \"https://www.loopnet.com/for-sale/ia/commercial-land/{}/?sk=0e29bff02e4ca8150d448c8055c149c4\"\n",
    "#     \"https://www.loopnet.com/for-sale/land/{}/?sk=36b0f5fccc9a3cd9c997387d2c58518f\"\n",
    "    \"https://www.loopnet.com/for-sale/land/{}/?sk=3744769fe81e64530e73ea160591ad63&bb=_8s2hg01_J-mh1i0_G\"\n",
    "#     \"https://www.loopnet.com/for-sale/land/{}/?sk=28f233500acff4396e5c84a31007a840\"\n",
    "]\n",
    "\n",
    "for loopnet_link in loopnet_links:\n",
    "    driver = webdriver.Chrome()\n",
    "    for x in range(2):\n",
    "        driver.get(loopnet_link.format(x + 1))\n",
    "        items = driver.find_elements_by_tag_name(\"article\")\n",
    "        for x in items:\n",
    "            temp_data = []\n",
    "            temp_sub_data = []\n",
    "            temp_sf = []\n",
    "            input_string = x.get_attribute(\"ng-click\").split(\"'\")[1].split(\"'\")[0]\n",
    "            temp_data.append(input_string)\n",
    "            try:\n",
    "                link = input_string.split(\"Listing/\")[1].split(\"/\")[0]\n",
    "                if bool(re.search(r'\\d', link)) and \"upsell\" not in link:\n",
    "                    temp_data.append(\" \".join(temp_data[0].split(\"Listing/\")[1].split(\"/\")[0].split(\"-\")))\n",
    "                    for index, val in enumerate(x.find_elements_by_tag_name(\"li\")):\n",
    "                        if index == 0:\n",
    "                            if \"$\" in val.text:\n",
    "                                price = [val.text]\n",
    "                            else:\n",
    "                                price = [None]\n",
    "                        elif \"SF\" in val.text or \"AC\" in val.text:\n",
    "                            temp_sf = [val.text]\n",
    "                        elif val.text != \"\":\n",
    "                            temp_sub_data.append(val.text)\n",
    "                    temp_sf = [None] if not temp_sf else temp_sf\n",
    "                    property_data.append(temp_data + price + temp_sf + [\", \".join(temp_sub_data), today])\n",
    "            except:\n",
    "                continue"
   ]
  },
  {
   "cell_type": "code",
   "execution_count": null,
   "metadata": {},
   "outputs": [],
   "source": [
    "import pandas as pd\n",
    "today_df = pd.DataFrame(property_data, columns = [\"Link\", \"Address\", \"Price\", \"Size\", \"Details\", \"Upload\"])\n",
    "raw_data = pd.concat([today_df, raw_data], ignore_index=True, sort=True)\n",
    "raw_data = raw_data.drop_duplicates(subset=\"Link\", keep='first', inplace=False)\n",
    "raw_data = raw_data[[\"Link\", \"Address\", \"Price\", \"Size\", \"Details\", \"Upload\"]]"
   ]
  },
  {
   "cell_type": "code",
   "execution_count": null,
   "metadata": {},
   "outputs": [],
   "source": [
    "today_df.to_csv(\"Daily Import/{}.csv\".format(today.strftime(\"%Y-%m-%d %H.%M%p\")), index=False)\n",
    "shutil.move(\"raw_data.csv\", \"Raw Data/{}.csv\".format(today.strftime(\"%Y-%m-%d %H.%M%p\")))\n",
    "raw_data.to_csv(\"raw_data.csv\", index=False)"
   ]
  },
  {
   "cell_type": "code",
   "execution_count": null,
   "metadata": {},
   "outputs": [],
   "source": [
    "df = pd.read_csv(\"raw_data.csv\")\n",
    "\n",
    "target_cities = pd.read_csv(\"preferred_cities.csv\")[\"City Name\"].tolist()\n",
    "\n",
    "# filtered_df = df[df[\"Address\"].str.contains(\"|\".join(target_cities), na=False) & ~df[\"Address\"].isna() & ~df[\"Details\"].str.contains(\"Residential\", na=False)]\n",
    "filtered_df = df\n",
    "\n",
    "master_df = pd.read_csv(\"master.csv\")\n",
    "final_df = pd.concat([master_df, filtered_df], ignore_index=True, sort=True)\n",
    "final_df = final_df.drop_duplicates(subset=\"Link\", keep='first', inplace=False)"
   ]
  },
  {
   "cell_type": "code",
   "execution_count": null,
   "metadata": {},
   "outputs": [],
   "source": [
    "from esri import get_df\n",
    "for row in final_df.itertuples():\n",
    "    if not(row.Inc1 > 0) or not(row.Pop1 > 0):\n",
    "        try:\n",
    "            esri_data = get_df(row.Address)\n",
    "            \n",
    "            final_df.loc[row.Index, [\"Pop1\"]] = esri_data[esri_data[\"Internal Name\"] == \"TOTPOP_CY\"].iloc[0][\"Ring 1\"]\n",
    "            final_df.loc[row.Index, [\"Pop3\"]] = esri_data[esri_data[\"Internal Name\"] == \"TOTPOP_CY\"].iloc[0][\"Ring 3\"]\n",
    "            final_df.loc[row.Index, [\"Pop5\"]] = esri_data[esri_data[\"Internal Name\"] == \"TOTPOP_CY\"].iloc[0][\"Ring 5\"]\n",
    "\n",
    "            final_df.loc[row.Index, [\"Inc1\"]] = esri_data[esri_data[\"Internal Name\"] == \"MEDHINC_CY\"].iloc[0][\"Ring 1\"]\n",
    "            final_df.loc[row.Index, [\"Inc3\"]] = esri_data[esri_data[\"Internal Name\"] == \"MEDHINC_CY\"].iloc[0][\"Ring 3\"]\n",
    "            final_df.loc[row.Index, [\"Inc5\"]] = esri_data[esri_data[\"Internal Name\"] == \"MEDHINC_CY\"].iloc[0][\"Ring 5\"]\n",
    "        except:\n",
    "            continue\n",
    "\n",
    "def apply_points(row):\n",
    "    temp_points = 0\n",
    "    if row[\"Pop1\"] > 10000:\n",
    "        temp_points += 1\n",
    "    elif row[\"Pop1\"] > 8000:\n",
    "        temp_points += .5\n",
    "\n",
    "    if row[\"Pop3\"] > 35000:\n",
    "        temp_points += 1\n",
    "    elif row[\"Pop3\"] > 28000:\n",
    "        temp_points += .5\n",
    "\n",
    "    if row[\"Inc1\"] > 75000:\n",
    "        temp_points += 1\n",
    "    elif row[\"Inc1\"] > 67500:\n",
    "        temp_points += .5\n",
    "\n",
    "    if row[\"Inc3\"] > 75000:\n",
    "        temp_points += 1\n",
    "    elif row[\"Inc3\"] > 67500:\n",
    "        temp_points += .5\n",
    "    \n",
    "    return temp_points\n",
    "\n",
    "def apply_hyperlink(row):\n",
    "    return '=HYPERLINK(\"{}\")'.format(row[\"Link\"])\n",
    "\n",
    "final_df[\"Points\"] = final_df.apply(apply_points, axis=1)\n",
    "final_df[\"Link_Click\"] = final_df.apply(apply_hyperlink, axis=1)"
   ]
  },
  {
   "cell_type": "code",
   "execution_count": null,
   "metadata": {},
   "outputs": [],
   "source": [
    "import shutil\n",
    "shutil.move(\"master.csv\", \"Master/{}.csv\".format(today.strftime(\"%Y-%m-%d %H.%M%p\")))\n",
    "\n",
    "final_df = final_df[[\"Link\", \"Address\", \"Price\", \"Size\", \"Details\", \"Upload\", \"Pop1\", \"Pop3\", \"Pop5\", \"Inc1\", \"Inc3\", \"Inc5\", \"Points\", \"Notes\", \"Link_Click\"]]\n",
    "final_df = final_df.sort_values(by=[\"Points\"], ascending=[False])\n",
    "final_df.to_csv(\"master.csv\", index=False)"
   ]
  },
  {
   "cell_type": "code",
   "execution_count": null,
   "metadata": {},
   "outputs": [],
   "source": []
  }
 ],
 "metadata": {
  "kernelspec": {
   "display_name": "Python 2",
   "language": "python",
   "name": "python2"
  },
  "language_info": {
   "codemirror_mode": {
    "name": "ipython",
    "version": 2
   },
   "file_extension": ".py",
   "mimetype": "text/x-python",
   "name": "python",
   "nbconvert_exporter": "python",
   "pygments_lexer": "ipython2",
   "version": "2.7.10"
  }
 },
 "nbformat": 4,
 "nbformat_minor": 2
}
